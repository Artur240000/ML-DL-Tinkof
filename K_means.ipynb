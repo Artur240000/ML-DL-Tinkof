{
 "cells": [
  {
   "cell_type": "markdown",
   "metadata": {},
   "source": [
    "Если вы дошли до этого момента, то уже сделали половину пути. Каждую ячейку можно выполнить, нажав Shift+Enter или кнопку Run на панели сверху. Всё, что она выведет будет показано ниже этой ячейки. Также каждая ячейка выводит результат последней строки."
   ]
  },
  {
   "cell_type": "markdown",
   "metadata": {},
   "source": [
    "Ваша задача написать код, в местах помеченных \"### ваш код здесь\" так, чтобы всё работало правильно"
   ]
  },
  {
   "cell_type": "code",
   "execution_count": 2,
   "metadata": {},
   "outputs": [
    {
     "name": "stdout",
     "output_type": "stream",
     "text": [
      "Requirement already satisfied: numpy in /opt/anaconda3/lib/python3.7/site-packages (1.17.2)\n",
      "Requirement already satisfied: matplotlib in /opt/anaconda3/lib/python3.7/site-packages (3.1.1)\n",
      "Requirement already satisfied: cycler>=0.10 in /opt/anaconda3/lib/python3.7/site-packages (from matplotlib) (0.10.0)\n",
      "Requirement already satisfied: kiwisolver>=1.0.1 in /opt/anaconda3/lib/python3.7/site-packages (from matplotlib) (1.1.0)\n",
      "Requirement already satisfied: pyparsing!=2.0.4,!=2.1.2,!=2.1.6,>=2.0.1 in /opt/anaconda3/lib/python3.7/site-packages (from matplotlib) (2.4.2)\n",
      "Requirement already satisfied: python-dateutil>=2.1 in /opt/anaconda3/lib/python3.7/site-packages (from matplotlib) (2.8.0)\n",
      "Requirement already satisfied: numpy>=1.11 in /opt/anaconda3/lib/python3.7/site-packages (from matplotlib) (1.17.2)\n",
      "Requirement already satisfied: six in /opt/anaconda3/lib/python3.7/site-packages (from cycler>=0.10->matplotlib) (1.12.0)\n",
      "Requirement already satisfied: setuptools in /opt/anaconda3/lib/python3.7/site-packages (from kiwisolver>=1.0.1->matplotlib) (41.4.0)\n",
      "Collecting sklearn\n",
      "  Downloading https://files.pythonhosted.org/packages/1e/7a/dbb3be0ce9bd5c8b7e3d87328e79063f8b263b2b1bfa4774cb1147bfcd3f/sklearn-0.0.tar.gz\n",
      "Requirement already satisfied: scikit-learn in /opt/anaconda3/lib/python3.7/site-packages (from sklearn) (0.21.3)\n",
      "Requirement already satisfied: scipy>=0.17.0 in /opt/anaconda3/lib/python3.7/site-packages (from scikit-learn->sklearn) (1.4.1)\n",
      "Requirement already satisfied: numpy>=1.11.0 in /opt/anaconda3/lib/python3.7/site-packages (from scikit-learn->sklearn) (1.17.2)\n",
      "Requirement already satisfied: joblib>=0.11 in /opt/anaconda3/lib/python3.7/site-packages (from scikit-learn->sklearn) (0.13.2)\n",
      "Building wheels for collected packages: sklearn\n",
      "  Building wheel for sklearn (setup.py) ... \u001b[?25ldone\n",
      "\u001b[?25h  Created wheel for sklearn: filename=sklearn-0.0-py2.py3-none-any.whl size=1316 sha256=6ecaeba9cfc8d9a5acd10e6f61c48411c5a79b04d469c44cb13978649176557d\n",
      "  Stored in directory: /Users/arturmelikan/Library/Caches/pip/wheels/76/03/bb/589d421d27431bcd2c6da284d5f2286c8e3b2ea3cf1594c074\n",
      "Successfully built sklearn\n",
      "Installing collected packages: sklearn\n",
      "Successfully installed sklearn-0.0\n"
     ]
    }
   ],
   "source": [
    "!pip install numpy\n",
    "!pip install matplotlib\n",
    "!pip install sklearn"
   ]
  },
  {
   "cell_type": "code",
   "execution_count": 3,
   "metadata": {},
   "outputs": [],
   "source": [
    "# Подробнее со следующими библиотеками вы познакомитесь на следующих занятиях. \n",
    "# Для решения задания потребуется лишь знания чистого python.\n",
    "import numpy as np\n",
    "import matplotlib.pyplot as plt\n",
    "from sklearn.datasets import load_digits\n",
    "from sklearn.ensemble import RandomForestClassifier\n",
    "\n",
    "%matplotlib inline"
   ]
  },
  {
   "cell_type": "markdown",
   "metadata": {},
   "source": [
    "### K-means"
   ]
  },
  {
   "cell_type": "markdown",
   "metadata": {},
   "source": [
    "Алгоритм k-means применяется для задачи кластеризации. Напомню его основные шаги. Пусть у нас имеется N точек на плоскости ${(x_1,y_1),...,(x_N,y_N)}$\n",
    "Допустим мы хотим разбить их на k=3 кластера.\n",
    "1. Выбираем k=3 случайные точки из этого множества. Говорим, что они являются теперь центрами наших кластеров.\n",
    "2. Для каждой из оставшихся точек смотрим, к какому из центров она ближе и определяем её в этот кластер.\n",
    "3. У нас получилось разбить точки на 3 кластера. Естественно это не оптимальное разбиение. Найдём новые центры кластеров. Например, если точки ${(x_{i_1}, y_{i_1}),...,(x_{i_n}, y_{i_n})}$ попали в один кластер, то их новый центр будет имеет координаты:\n",
    "$$x_M=\\frac{x_{i_1}+...+x_{i_n}}{n}$$\n",
    "$$y_M=\\frac{y_{i_1}+...+y_{i_n}}{n}$$\n",
    "4. Переходим к шагу 2 и продолжаем до тех пор, пока кластеры не перестанут меняться."
   ]
  },
  {
   "cell_type": "markdown",
   "metadata": {},
   "source": [
    "Сгенерируем искусственно 3 кластера случайных точек."
   ]
  },
  {
   "cell_type": "code",
   "execution_count": 4,
   "metadata": {},
   "outputs": [],
   "source": [
    "points = []\n",
    "\n",
    "# Параметры кластеров\n",
    "num_clusters = 3\n",
    "cluster_size = 20\n",
    "\n",
    "# Центры кластеров\n",
    "means_x = [1., 1.2, 0.8]\n",
    "means_y = [0.5, 0.6, 0.5]\n",
    "\n",
    "# Разброс\n",
    "std = 0.1\n",
    "\n",
    "for k in range(num_clusters):\n",
    "    for i in range(cluster_size):\n",
    "        x_i = np.random.normal(loc=means_x[k], scale=std)\n",
    "        y_i = np.random.normal(loc=means_y[k], scale=std)\n",
    "        points.append((x_i, y_i))"
   ]
  },
  {
   "cell_type": "markdown",
   "metadata": {},
   "source": [
    "Каждый цвет - отдельный кластер. Но у нас не будет этих цветов, а только координаты точек."
   ]
  },
  {
   "cell_type": "code",
   "execution_count": 5,
   "metadata": {},
   "outputs": [
    {
     "data": {
      "text/plain": [
       "<matplotlib.collections.PathCollection at 0x125f96610>"
      ]
     },
     "execution_count": 5,
     "metadata": {},
     "output_type": "execute_result"
    },
    {
     "data": {
      "image/png": "[encoded data removed]",
      "text/plain": [
       "<Figure size 432x288 with 1 Axes>"
      ]
     },
     "metadata": {
      "needs_background": "light"
     },
     "output_type": "display_data"
    }
   ],
   "source": [
    "points_x = list(map(lambda x: x[0], points))\n",
    "points_y = list(map(lambda x: x[1], points))\n",
    "colors = ['r'] * cluster_size + ['g'] * cluster_size + ['b'] * cluster_size\n",
    "plt.scatter(x=points_x, y=points_y, c=colors)"
   ]
  },
  {
   "cell_type": "code",
   "execution_count": 24,
   "metadata": {},
   "outputs": [
    {
     "data": {
      "text/plain": [
       "60"
      ]
     },
     "execution_count": 24,
     "metadata": {},
     "output_type": "execute_result"
    }
   ],
   "source": []
  },
  {
   "cell_type": "code",
   "execution_count": 45,
   "metadata": {},
   "outputs": [],
   "source": [
    "# Код алгоритма\n",
    "def k_means(points, num_clusters):\n",
    "    \"\"\"\n",
    "    @param points: список из пар координат точек\n",
    "    @param num_clusters: число кластеров, на которое необходимо поделить\n",
    "\n",
    "    @return: номера кластеров и их центры\n",
    "    \"\"\"\n",
    "    num_points = len(points)\n",
    "    # Выбираем начальные центры кластеров (просто первые num_clusters точек)\n",
    "    centers = points[:num_clusters]\n",
    "    # В качестве результата будет массив с номерами кластеров для каждой точки\n",
    "    result = [-1] * num_points\n",
    "    # Предыдущая копия массива result, чтобы сравнивать, поменялось что-то или нет\n",
    "    prev_result = None\n",
    "    \n",
    "    # Выведем на экран стартовую ситуацию\n",
    "    print(\"Входные данные\")\n",
    "    points_x = list(map(lambda x: x[0], points))\n",
    "    points_y = list(map(lambda x: x[1], points))\n",
    "    plt.scatter(x=points_x, y=points_y)\n",
    "    plt.show()\n",
    "    \n",
    "    it_num = 1\n",
    "    # Работаем до тех пор, пока кластеры не перестанут меняться\n",
    "    while result != prev_result:\n",
    "        prev_result = list(result)\n",
    "        # Определяем каждую точку к кластеру\n",
    "        ### ваш код здесь\n",
    "        arr1=[]\n",
    "        for g in range(len(points)):\n",
    "            arr=[]\n",
    "            for k in range(len(centers)):\n",
    "                s=((centers[k][0]-points_x[g])**2+(centers[k][1]-points_y[g])**2)**0.5\n",
    "                arr.append(s)\n",
    "            arr1.append(arr.index(min(arr)))\n",
    "        # Меняем центры кластеров\n",
    "        ### ваш код здесь\n",
    "        \n",
    "        for i in range(len(centers)):\n",
    "            arr_1=[]\n",
    "            xs=0\n",
    "            ys=0\n",
    "            for g in range(len(arr1)):\n",
    "                if arr1[g]==i:\n",
    "                    arr_1.append((points_x[g], points_y[g]))\n",
    "                xs+=points_x[g]\n",
    "                ys+=points_y[g]\n",
    "            xm=xs/len(arr_1[0])\n",
    "            ym=ys/len(arr_1[0])\n",
    "            centers.append((xm,ym))\n",
    "        result=arr1\n",
    "        # Выведем то, что у нас получилось\n",
    "        print(\"Итерация №{}\".format(it_num))\n",
    "        it_num += 1\n",
    "        points_x = list(map(lambda x: x[0], points))\n",
    "        points_y = list(map(lambda x: x[1], points))    \n",
    "        plt.scatter(x=points_x, y=points_y, c=result)\n",
    "        plt.show()\n",
    "    return result, centers"
   ]
  },
  {
   "cell_type": "markdown",
   "metadata": {},
   "source": [
    "Выведем полученный результат"
   ]
  },
  {
   "cell_type": "code",
   "execution_count": 46,
   "metadata": {},
   "outputs": [
    {
     "name": "stdout",
     "output_type": "stream",
     "text": [
      "Входные данные\n"
     ]
    },
    {
     "data": {
      "image/png": "[encoded data removed]",
      "text/plain": [
       "<Figure size 432x288 with 1 Axes>"
      ]
     },
     "metadata": {
      "needs_background": "light"
     },
     "output_type": "display_data"
    },
    {
     "name": "stdout",
     "output_type": "stream",
     "text": [
      "Итерация №1\n"
     ]
    },
    {
     "data": {
      "image/png": "[encoded data removed]",
      "text/plain": [
       "<Figure size 432x288 with 1 Axes>"
      ]
     },
     "metadata": {
      "needs_background": "light"
     },
     "output_type": "display_data"
    },
    {
     "ename": "IndexError",
     "evalue": "list index out of range",
     "output_type": "error",
     "traceback": [
      "\u001b[0;31m---------------------------------------------------------------------------\u001b[0m",
      "\u001b[0;31mIndexError\u001b[0m                                Traceback (most recent call last)",
      "\u001b[0;32m<ipython-input-46-31874a631887>\u001b[0m in \u001b[0;36m<module>\u001b[0;34m\u001b[0m\n\u001b[0;32m----> 1\u001b[0;31m \u001b[0mres\u001b[0m\u001b[0;34m,\u001b[0m \u001b[0mcenters\u001b[0m \u001b[0;34m=\u001b[0m \u001b[0mk_means\u001b[0m\u001b[0;34m(\u001b[0m\u001b[0mpoints\u001b[0m\u001b[0;34m,\u001b[0m \u001b[0;36m3\u001b[0m\u001b[0;34m)\u001b[0m\u001b[0;34m\u001b[0m\u001b[0;34m\u001b[0m\u001b[0m\n\u001b[0m\u001b[1;32m      2\u001b[0m \u001b[0mprint\u001b[0m\u001b[0;34m(\u001b[0m\u001b[0;34m\"Истинные центры кластеров:\"\u001b[0m\u001b[0;34m)\u001b[0m\u001b[0;34m\u001b[0m\u001b[0;34m\u001b[0m\u001b[0m\n\u001b[1;32m      3\u001b[0m \u001b[0;32mfor\u001b[0m \u001b[0mi\u001b[0m \u001b[0;32min\u001b[0m \u001b[0mrange\u001b[0m\u001b[0;34m(\u001b[0m\u001b[0mnum_clusters\u001b[0m\u001b[0;34m)\u001b[0m\u001b[0;34m:\u001b[0m\u001b[0;34m\u001b[0m\u001b[0;34m\u001b[0m\u001b[0m\n\u001b[1;32m      4\u001b[0m     \u001b[0mprint\u001b[0m\u001b[0;34m(\u001b[0m\u001b[0;34m\"({0:.1f}, {1:.1f})\"\u001b[0m\u001b[0;34m.\u001b[0m\u001b[0mformat\u001b[0m\u001b[0;34m(\u001b[0m\u001b[0mmeans_x\u001b[0m\u001b[0;34m[\u001b[0m\u001b[0mi\u001b[0m\u001b[0;34m]\u001b[0m\u001b[0;34m,\u001b[0m \u001b[0mmeans_y\u001b[0m\u001b[0;34m[\u001b[0m\u001b[0mi\u001b[0m\u001b[0;34m]\u001b[0m\u001b[0;34m)\u001b[0m\u001b[0;34m)\u001b[0m\u001b[0;34m\u001b[0m\u001b[0;34m\u001b[0m\u001b[0m\n\u001b[1;32m      5\u001b[0m \u001b[0mprint\u001b[0m\u001b[0;34m(\u001b[0m\u001b[0;34m\"Полученные центры кластеров. Порядок может поменяться, а значения могут немного отличаться:\"\u001b[0m\u001b[0;34m)\u001b[0m\u001b[0;34m\u001b[0m\u001b[0;34m\u001b[0m\u001b[0m\n",
      "\u001b[0;32m<ipython-input-45-79d0878f0bc8>\u001b[0m in \u001b[0;36mk_means\u001b[0;34m(points, num_clusters)\u001b[0m\n\u001b[1;32m     47\u001b[0m                 \u001b[0mxs\u001b[0m\u001b[0;34m+=\u001b[0m\u001b[0mpoints_x\u001b[0m\u001b[0;34m[\u001b[0m\u001b[0mg\u001b[0m\u001b[0;34m]\u001b[0m\u001b[0;34m\u001b[0m\u001b[0;34m\u001b[0m\u001b[0m\n\u001b[1;32m     48\u001b[0m                 \u001b[0mys\u001b[0m\u001b[0;34m+=\u001b[0m\u001b[0mpoints_y\u001b[0m\u001b[0;34m[\u001b[0m\u001b[0mg\u001b[0m\u001b[0;34m]\u001b[0m\u001b[0;34m\u001b[0m\u001b[0;34m\u001b[0m\u001b[0m\n\u001b[0;32m---> 49\u001b[0;31m             \u001b[0mxm\u001b[0m\u001b[0;34m=\u001b[0m\u001b[0mxs\u001b[0m\u001b[0;34m/\u001b[0m\u001b[0mlen\u001b[0m\u001b[0;34m(\u001b[0m\u001b[0marr_1\u001b[0m\u001b[0;34m[\u001b[0m\u001b[0;36m0\u001b[0m\u001b[0;34m]\u001b[0m\u001b[0;34m)\u001b[0m\u001b[0;34m\u001b[0m\u001b[0;34m\u001b[0m\u001b[0m\n\u001b[0m\u001b[1;32m     50\u001b[0m             \u001b[0mym\u001b[0m\u001b[0;34m=\u001b[0m\u001b[0mys\u001b[0m\u001b[0;34m/\u001b[0m\u001b[0mlen\u001b[0m\u001b[0;34m(\u001b[0m\u001b[0marr_1\u001b[0m\u001b[0;34m[\u001b[0m\u001b[0;36m0\u001b[0m\u001b[0;34m]\u001b[0m\u001b[0;34m)\u001b[0m\u001b[0;34m\u001b[0m\u001b[0;34m\u001b[0m\u001b[0m\n\u001b[1;32m     51\u001b[0m             \u001b[0mcenters\u001b[0m\u001b[0;34m.\u001b[0m\u001b[0mappend\u001b[0m\u001b[0;34m(\u001b[0m\u001b[0;34m(\u001b[0m\u001b[0mxm\u001b[0m\u001b[0;34m,\u001b[0m\u001b[0mym\u001b[0m\u001b[0;34m)\u001b[0m\u001b[0;34m)\u001b[0m\u001b[0;34m\u001b[0m\u001b[0;34m\u001b[0m\u001b[0m\n",
      "\u001b[0;31mIndexError\u001b[0m: list index out of range"
     ]
    }
   ],
   "source": [
    "res, centers = k_means(points, 3)\n",
    "print(\"Истинные центры кластеров:\")\n",
    "for i in range(num_clusters):\n",
    "    print(\"({0:.1f}, {1:.1f})\".format(means_x[i], means_y[i]))\n",
    "print(\"Полученные центры кластеров. Порядок может поменяться, а значения могут немного отличаться:\")\n",
    "for i in range(num_clusters):\n",
    "    print(\"({0:.1f}, {1:.1f})\".format(centers[i][0], centers[i][1]))"
   ]
  },
  {
   "cell_type": "markdown",
   "metadata": {},
   "source": [
    "### MSE"
   ]
  },
  {
   "cell_type": "markdown",
   "metadata": {},
   "source": [
    "Напомним формулу для MSE между двумя массивами длины n. Необходимо проверить, насколько сильно они отличаются:\n",
    "$$MSE(x, y) = \\frac{1}{n}((x_1-y_1)^2+...+(x_n-y_n)^2)$$"
   ]
  },
  {
   "cell_type": "code",
   "execution_count": 33,
   "metadata": {},
   "outputs": [],
   "source": [
    "def mse(x, y):\n",
    "    \"\"\"\n",
    "    @param x, y: массивы одинаковой длины\n",
    "    @return: число, результат их MSE\n",
    "    \"\"\"\n",
    "    assert len(x) == len(y)\n",
    "    ### ваш код здесь\n",
    "    s=0\n",
    "    for i in range(len(x)):\n",
    "        s+=(x[i]-y[i])**2\n",
    "    return s/len(x)"
   ]
  },
  {
   "cell_type": "markdown",
   "metadata": {},
   "source": [
    "Проверим на простом примере. Должно получиться 5.0:"
   ]
  },
  {
   "cell_type": "code",
   "execution_count": 35,
   "metadata": {},
   "outputs": [
    {
     "data": {
      "text/plain": [
       "5.0"
      ]
     },
     "execution_count": 35,
     "metadata": {},
     "output_type": "execute_result"
    }
   ],
   "source": [
    "x = [1, 3, 2, 4, 5, 6]\n",
    "y = [2, 4, 3, 5, 6, 1]\n",
    "mse(x, y)"
   ]
  },
  {
   "cell_type": "markdown",
   "metadata": {},
   "source": [
    "Теперь проверим на более сложном примере.  Далее в коде ничего изменять не надо, просто посмотрите, как отличаются ошибки алгоритма, который всегда выдаёт 0, а также более продвинутого алгоритма."
   ]
  },
  {
   "cell_type": "markdown",
   "metadata": {},
   "source": [
    "В качестве данных у нас картинки с рукописными цифрами из sklearn. Они небольшого размера, но, в принципе, все числа различимы. Это задача классификации с 10 классами (цифры от 0 до 9)."
   ]
  },
  {
   "cell_type": "code",
   "execution_count": 36,
   "metadata": {
    "jupyter": {
     "source_hidden": true
    }
   },
   "outputs": [
    {
     "name": "stdout",
     "output_type": "stream",
     "text": [
      "7\n"
     ]
    },
    {
     "data": {
      "text/plain": [
       "<Figure size 432x288 with 0 Axes>"
      ]
     },
     "metadata": {},
     "output_type": "display_data"
    },
    {
     "data": {
      "image/png": "[encoded data removed]",
      "text/plain": [
       "<Figure size 288x288 with 1 Axes>"
      ]
     },
     "metadata": {
      "needs_background": "light"
     },
     "output_type": "display_data"
    }
   ],
   "source": [
    "digits = load_digits()\n",
    "plt.gray()\n",
    "print(digits.target[17])\n",
    "plt.matshow(digits.images[17])\n",
    "plt.show()"
   ]
  },
  {
   "cell_type": "markdown",
   "metadata": {},
   "source": [
    "Каждая черно-белая картинка это двухмерный массив 8x8, который мы будем использовать в качестве признаков. Первые 1500 цифр возьмём в качестве обучающей выборки, а оставшиеся в качестве тестовой."
   ]
  },
  {
   "cell_type": "code",
   "execution_count": 37,
   "metadata": {},
   "outputs": [
    {
     "name": "stderr",
     "output_type": "stream",
     "text": [
      "/opt/anaconda3/lib/python3.7/site-packages/sklearn/ensemble/forest.py:245: FutureWarning: The default value of n_estimators will change from 10 in version 0.20 to 100 in 0.22.\n",
      "  \"10 in version 0.20 to 100 in 0.22.\", FutureWarning)\n"
     ]
    }
   ],
   "source": [
    "X = digits.images.reshape(len(digits.images), -1)\n",
    "y = digits.target\n",
    "\n",
    "# Разбиваем на обучающую и тестовую выборки\n",
    "X_train, y_train = X[:1500], y[:1500]\n",
    "X_test, y_test = X[1500:], y[1500:]\n",
    "\n",
    "# Создаём модель\n",
    "clf = RandomForestClassifier()\n",
    "# Обучаем модель\n",
    "clf = clf.fit(X_train, y_train)"
   ]
  },
  {
   "cell_type": "code",
   "execution_count": 39,
   "metadata": {},
   "outputs": [
    {
     "name": "stdout",
     "output_type": "stream",
     "text": [
      "Истинные значения первых 10 элементов:\n",
      "[1 7 4 6 3 1 3 9 1 7]\n",
      "Предсказанные значения первых 10 элементов:\n",
      "[1 7 4 6 3 1 3 9 1 7]\n"
     ]
    }
   ],
   "source": [
    "# Попробуем посмотреть, правильно ли обучилась модель\n",
    "print(\"Истинные значения первых 10 элементов:\")\n",
    "print(y_test[:10])\n",
    "y_pred = clf.predict(X_test[:10])\n",
    "print(\"Предсказанные значения первых 10 элементов:\")\n",
    "print(y_pred)"
   ]
  },
  {
   "cell_type": "markdown",
   "metadata": {},
   "source": [
    "Вполне неплохо. Выведем результат ошибки MSE на всей тестовой выборке"
   ]
  },
  {
   "cell_type": "code",
   "execution_count": 40,
   "metadata": {},
   "outputs": [
    {
     "name": "stdout",
     "output_type": "stream",
     "text": [
      "MSE=2.1077441077441077\n"
     ]
    }
   ],
   "source": [
    "y_pred = clf.predict(X_test)\n",
    "print(\"MSE={}\".format(mse(y_test, y_pred)))"
   ]
  },
  {
   "cell_type": "markdown",
   "metadata": {},
   "source": [
    "А если вместо предсказаний будем всегда выдавать 0"
   ]
  },
  {
   "cell_type": "code",
   "execution_count": 41,
   "metadata": {},
   "outputs": [
    {
     "name": "stdout",
     "output_type": "stream",
     "text": [
      "MSE=28.754208754208754\n"
     ]
    }
   ],
   "source": [
    "y_pred = [0] * len(y_test)\n",
    "print(\"MSE={}\".format(mse(y_test, y_pred)))"
   ]
  },
  {
   "cell_type": "markdown",
   "metadata": {},
   "source": [
    "Результат на лицо. "
   ]
  }
 ],
 "metadata": {
  "kernelspec": {
   "display_name": "Python 3",
   "language": "python",
   "name": "python3"
  },
  "language_info": {
   "codemirror_mode": {
    "name": "ipython",
    "version": 3
   },
   "file_extension": ".py",
   "mimetype": "text/x-python",
   "name": "python",
   "nbconvert_exporter": "python",
   "pygments_lexer": "ipython3",
   "version": "3.7.4"
  }
 },
 "nbformat": 4,
 "nbformat_minor": 4
}
