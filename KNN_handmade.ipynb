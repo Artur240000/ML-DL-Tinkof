{
 "cells": [
  {
   "cell_type": "code",
   "execution_count": 2,
   "metadata": {},
   "outputs": [],
   "source": [
    "import sklearn.datasets\n",
    "import numpy as np\n",
    "import matplotlib.pyplot as plt\n",
    "import statistics\n",
    "from statistics import mode "
   ]
  },
  {
   "cell_type": "code",
   "execution_count": 7,
   "metadata": {},
   "outputs": [
    {
     "data": {
      "text/plain": [
       "(array([[ 0.6166018 ,  1.34389039],\n",
       "        [ 0.04548352,  1.60046409],\n",
       "        [ 0.05872548,  1.3353597 ],\n",
       "        [ 1.27949885,  1.48375785],\n",
       "        [ 2.98678522, -0.0357431 ],\n",
       "        [-0.75242368, -1.44388521],\n",
       "        [ 1.20184251, -1.00355118],\n",
       "        [-1.40652044,  0.12346777],\n",
       "        [ 0.27903713, -1.31536397],\n",
       "        [ 1.94569651, -1.19642063],\n",
       "        [-0.66400791,  1.68172813],\n",
       "        [ 1.42869742, -1.277709  ],\n",
       "        [-0.11915775, -1.11759756],\n",
       "        [-1.12671624,  1.2547337 ],\n",
       "        [-1.93213859, -2.47537394],\n",
       "        [ 0.80986371, -0.97206411],\n",
       "        [ 1.67830771, -1.14414364],\n",
       "        [ 1.6398021 ,  1.40973938],\n",
       "        [-0.6438929 ,  1.66335895],\n",
       "        [-0.33374296, -0.97880576],\n",
       "        [-1.63495755,  0.8996169 ],\n",
       "        [ 1.52671423, -1.16653701],\n",
       "        [ 0.4960141 ,  1.38310342],\n",
       "        [ 1.72694123,  1.07613196],\n",
       "        [ 2.50424818, -1.21086757],\n",
       "        [ 0.97311267,  1.18676229],\n",
       "        [ 0.00739601, -0.89762682],\n",
       "        [-0.6771054 ,  1.34725034],\n",
       "        [-1.48306216, -0.77202357],\n",
       "        [-3.60964061,  3.10516016],\n",
       "        [-0.86664292,  0.46016654],\n",
       "        [-0.42762473,  0.66082433],\n",
       "        [ 1.81732109,  0.37297168],\n",
       "        [-0.68629375,  1.06656705],\n",
       "        [-2.88751641, -1.2198772 ],\n",
       "        [-0.81315992, -0.71564649],\n",
       "        [ 4.3246834 , -0.99096192],\n",
       "        [ 2.14184465,  0.11725731],\n",
       "        [ 0.16836899, -0.78281716],\n",
       "        [-0.55955586, -1.21048821],\n",
       "        [-1.38600285, -1.63872598],\n",
       "        [ 1.10242767, -0.97492095],\n",
       "        [ 3.53224   ,  0.02608393],\n",
       "        [-0.23137092, -0.6207443 ],\n",
       "        [ 0.12582475,  1.16481984],\n",
       "        [ 0.16262748,  1.22221382],\n",
       "        [-0.33861198, -1.5732866 ],\n",
       "        [ 0.24125863, -0.86440161],\n",
       "        [ 1.65292227, -1.23923267],\n",
       "        [ 0.73996625, -0.94773916],\n",
       "        [-0.47216353,  2.2381578 ],\n",
       "        [ 1.75101392, -1.23643015],\n",
       "        [-0.89132444,  2.17135137],\n",
       "        [ 1.05243646, -0.75171185],\n",
       "        [-1.90654507, -1.65967202],\n",
       "        [-1.16827573, -1.08898158],\n",
       "        [-0.71269499, -0.40585456],\n",
       "        [ 2.12662105,  0.80683974],\n",
       "        [-0.17589493,  1.79289698],\n",
       "        [-1.6017692 , -0.59141833],\n",
       "        [-0.47887996, -0.965778  ],\n",
       "        [-0.84925775,  2.74002439],\n",
       "        [-2.26675042, -2.2097071 ],\n",
       "        [-0.89652252, -0.78228798],\n",
       "        [-0.08627294,  0.8896586 ],\n",
       "        [ 0.10525265, -1.04781059],\n",
       "        [ 1.03480772, -0.99412156],\n",
       "        [ 0.47023646, -0.90894322],\n",
       "        [-0.32830957,  2.00128623],\n",
       "        [-0.83651682, -1.39110325],\n",
       "        [-1.84351896, -1.35964733],\n",
       "        [-1.93948646,  1.99100147],\n",
       "        [-0.73973237, -0.15800151],\n",
       "        [-0.52581176,  1.67609914],\n",
       "        [ 2.530859  ,  0.02895881],\n",
       "        [-1.25188994, -0.16516518],\n",
       "        [ 2.45432592, -1.18584909],\n",
       "        [-1.26056465, -0.83592562],\n",
       "        [-0.98707271, -1.49365695],\n",
       "        [ 1.67819035, -1.00197843],\n",
       "        [-0.80665552,  0.04396347],\n",
       "        [-0.40984689,  1.18145173],\n",
       "        [-0.33412789,  1.11694727],\n",
       "        [ 0.44262734,  1.14522813],\n",
       "        [-1.23420645, -1.07747536],\n",
       "        [ 0.67303594, -0.66974479],\n",
       "        [-1.4352938 , -2.19172345],\n",
       "        [-0.27220859, -0.92334315],\n",
       "        [-0.74602661,  1.97926949],\n",
       "        [-1.26627216, -0.63859749],\n",
       "        [-0.53337094, -1.74696914],\n",
       "        [-0.17369214, -0.66661878],\n",
       "        [ 0.4222008 ,  0.01532307],\n",
       "        [ 2.92654021, -1.29538279],\n",
       "        [-1.2370604 , -1.64959938],\n",
       "        [-0.8166956 ,  1.17316269],\n",
       "        [ 0.12442883,  1.51440542],\n",
       "        [-1.05354178, -0.33821607],\n",
       "        [ 2.04722293,  0.83302169],\n",
       "        [ 0.76690588, -1.01297692]]),\n",
       " array([1, 1, 1, 1, 1, 0, 0, 1, 0, 0, 1, 0, 0, 1, 0, 0, 0, 1, 1, 0, 1, 0,\n",
       "        1, 1, 0, 1, 0, 1, 0, 1, 1, 1, 1, 1, 1, 0, 1, 1, 0, 0, 0, 0, 1, 0,\n",
       "        1, 1, 0, 0, 0, 0, 1, 0, 1, 0, 0, 0, 1, 1, 1, 1, 0, 1, 0, 1, 1, 0,\n",
       "        0, 0, 1, 0, 0, 1, 0, 1, 1, 0, 0, 0, 0, 0, 1, 1, 1, 1, 0, 0, 0, 0,\n",
       "        1, 0, 0, 1, 1, 0, 0, 1, 1, 1, 1, 0]))"
      ]
     },
     "execution_count": 7,
     "metadata": {},
     "output_type": "execute_result"
    }
   ],
   "source": [
    "data=sklearn.datasets.make_classification(n_features=2,  n_redundant=0)\n",
    "data_y=data[1]\n",
    "data_x=data[0]\n",
    "data"
   ]
  },
  {
   "cell_type": "code",
   "execution_count": 8,
   "metadata": {},
   "outputs": [
    {
     "data": {
      "text/plain": [
       "<matplotlib.collections.PathCollection at 0x11d86c3d0>"
      ]
     },
     "execution_count": 8,
     "metadata": {},
     "output_type": "execute_result"
    },
    {
     "data": {
      "image/png": "[encoded data removed]",
      "text/plain": [
       "<Figure size 432x288 with 1 Axes>"
      ]
     },
     "metadata": {
      "needs_background": "light"
     },
     "output_type": "display_data"
    }
   ],
   "source": [
    "X=[]\n",
    "Y=[]\n",
    "for i in range(len(data_x)):\n",
    "    X.append(data_x[i][0])\n",
    "    Y.append(data_x[i][1])\n",
    "plt.scatter(X,Y)"
   ]
  },
  {
   "cell_type": "code",
   "execution_count": 9,
   "metadata": {},
   "outputs": [],
   "source": [
    "def knn(k, r):\n",
    "    arr=[]\n",
    "    for j in range(len(r)):\n",
    "        for i in range(len((X))):\n",
    "            d=((r[j][0]-X[i])**2+(r[j][1]-Y[i])**2)**0.5\n",
    "            arr.append((d,data_x[i]))\n",
    "        \n",
    "    final = [arr[i * len(data_x):(i + 1) * len(data_x)] for i in range((len(arr) + len(data_x) - 1) // len(data_x) )]\n",
    "    for i in range(len(final)):\n",
    "        final[i].sort()\n",
    "\n",
    "    for i in range(len(final)):\n",
    "        final[i]=final[i][0:k]\n",
    "    labels=[]\n",
    "    for i in range(len(final)):\n",
    "        for j in range(k):\n",
    "            u=np.where(data_x==final[i][j][1][0])\n",
    "            labels.append(data_y[u[0][0]])\n",
    "    final_labels=[labels[i * k:(i + 1) * k] for i in range((len(labels) + k - 1) // k )]\n",
    "    result=[]\n",
    "    for i in range(len(final_labels)):\n",
    "        result.append(mode(final_labels[i]))\n",
    "    return result"
   ]
  },
  {
   "cell_type": "code",
   "execution_count": 10,
   "metadata": {},
   "outputs": [
    {
     "data": {
      "text/plain": [
       "[1, 0, 1]"
      ]
     },
     "execution_count": 10,
     "metadata": {},
     "output_type": "execute_result"
    }
   ],
   "source": [
    "h=[[-0.18, 0.1], [0.1, -1.5], [-0.567, 1.89]]\n",
    "knn(3, h)"
   ]
  },
  {
   "cell_type": "code",
   "execution_count": 11,
   "metadata": {},
   "outputs": [
    {
     "data": {
      "text/plain": [
       "KNeighborsClassifier(algorithm='auto', leaf_size=30, metric='minkowski',\n",
       "                     metric_params=None, n_jobs=None, n_neighbors=3, p=2,\n",
       "                     weights='uniform')"
      ]
     },
     "execution_count": 11,
     "metadata": {},
     "output_type": "execute_result"
    }
   ],
   "source": [
    "from sklearn.neighbors import KNeighborsClassifier\n",
    "KNN=KNeighborsClassifier(n_neighbors=3)\n",
    "KNN.fit(data_x, data_y)"
   ]
  },
  {
   "cell_type": "code",
   "execution_count": 12,
   "metadata": {},
   "outputs": [
    {
     "data": {
      "text/plain": [
       "array([1, 0, 1])"
      ]
     },
     "execution_count": 12,
     "metadata": {},
     "output_type": "execute_result"
    }
   ],
   "source": [
    "KNN.predict(h)"
   ]
  }
 ],
 "metadata": {
  "kernelspec": {
   "display_name": "Python 3",
   "language": "python",
   "name": "python3"
  },
  "language_info": {
   "codemirror_mode": {
    "name": "ipython",
    "version": 3
   },
   "file_extension": ".py",
   "mimetype": "text/x-python",
   "name": "python",
   "nbconvert_exporter": "python",
   "pygments_lexer": "ipython3",
   "version": "3.7.4"
  }
 },
 "nbformat": 4,
 "nbformat_minor": 4
}
